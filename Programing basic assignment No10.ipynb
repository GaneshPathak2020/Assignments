{
 "cells": [
  {
   "cell_type": "markdown",
   "id": "12d8696a",
   "metadata": {},
   "source": [
    "# Q.1. Write a Python program to find sum of elements in list?"
   ]
  },
  {
   "cell_type": "code",
   "execution_count": 5,
   "id": "3a3f19c7",
   "metadata": {},
   "outputs": [
    {
     "name": "stdout",
     "output_type": "stream",
     "text": [
      "13\n"
     ]
    }
   ],
   "source": [
    "\n",
    "def ls_sum(n):\n",
    "    sm = 0\n",
    "    for i in lst:\n",
    "        sm = sm + i\n",
    "    return sm\n",
    "lst = [1,2,10]\n",
    "print(ls_sum(lst))"
   ]
  },
  {
   "cell_type": "markdown",
   "id": "2c794347",
   "metadata": {},
   "source": [
    "# Q.2 Write a Python program to Multiply all numbers in the list?"
   ]
  },
  {
   "cell_type": "code",
   "execution_count": 7,
   "id": "8ff628d7",
   "metadata": {},
   "outputs": [
    {
     "name": "stdout",
     "output_type": "stream",
     "text": [
      "20\n"
     ]
    }
   ],
   "source": [
    "\n",
    "def ls_mul(n):\n",
    "    m = 1\n",
    "    for i in lst:\n",
    "        m =m * i\n",
    "    return m\n",
    "lst = [1,2,10]\n",
    "print(ls_mul(lst))"
   ]
  },
  {
   "cell_type": "markdown",
   "id": "5e41bc92",
   "metadata": {},
   "source": [
    "# Q.3 Write a Python program to find smallest number in a list?"
   ]
  },
  {
   "cell_type": "code",
   "execution_count": 9,
   "id": "d37bb630",
   "metadata": {},
   "outputs": [
    {
     "name": "stdout",
     "output_type": "stream",
     "text": [
      "Smallest number is :-  5\n"
     ]
    }
   ],
   "source": [
    "def smll(n):\n",
    "    a = l[0]\n",
    "    for i in l:\n",
    "        if i<a:\n",
    "            a = i\n",
    "    return a\n",
    "l = [7,8,5,46,9]\n",
    "print(\"Smallest number is :- \",smll(l))"
   ]
  },
  {
   "cell_type": "markdown",
   "id": "5e08a36e",
   "metadata": {},
   "source": [
    "# Q.4 Write a Python program to find largest number in a list?"
   ]
  },
  {
   "cell_type": "code",
   "execution_count": 10,
   "id": "eb0f24ee",
   "metadata": {},
   "outputs": [
    {
     "name": "stdout",
     "output_type": "stream",
     "text": [
      "Largest number is :-  46\n"
     ]
    }
   ],
   "source": [
    "def smll(n):\n",
    "    a = l[0]\n",
    "    for i in l:\n",
    "        if i>a:\n",
    "            a = i\n",
    "    return a\n",
    "l = [7,8,5,46,9]\n",
    "print(\"Largest number is :- \",smll(l))"
   ]
  },
  {
   "cell_type": "markdown",
   "id": "c32248d2",
   "metadata": {},
   "source": [
    "# Q.5 Write a Python program to find second largest number in a list?\n"
   ]
  },
  {
   "cell_type": "code",
   "execution_count": 11,
   "id": "db850e4e",
   "metadata": {},
   "outputs": [
    {
     "name": "stdout",
     "output_type": "stream",
     "text": [
      "Second largest number is :-  4\n"
     ]
    }
   ],
   "source": [
    "def second_larg(n):\n",
    "    for i in lst:\n",
    "        a = sorted(lst)\n",
    "    return a[-2]\n",
    "\n",
    "lst = [1,3,2,4,5]\n",
    "print(\"Second largest number is :- \",second_larg(lst))\n",
    "\n"
   ]
  },
  {
   "cell_type": "markdown",
   "id": "9606f662",
   "metadata": {},
   "source": [
    "# Q.6 Write a Python program to find N largest elements from a list?"
   ]
  },
  {
   "cell_type": "code",
   "execution_count": 13,
   "id": "7e7f4c9e",
   "metadata": {},
   "outputs": [
    {
     "name": "stdout",
     "output_type": "stream",
     "text": [
      "Enter number to see:- 2\n",
      "[5, 6]\n"
     ]
    }
   ],
   "source": [
    "def last_item(n):\n",
    "    l.sort()\n",
    "    return l[-2:]\n",
    "n = int(input(\"Enter number to see:- \"))\n",
    "l = [1,2,3,4,5,6]\n",
    "print(last_item(l))"
   ]
  },
  {
   "cell_type": "markdown",
   "id": "fd041164",
   "metadata": {},
   "source": [
    "# Q.7 Write a Python program to print even numbers in a list?"
   ]
  },
  {
   "cell_type": "code",
   "execution_count": 14,
   "id": "a3a1114b",
   "metadata": {},
   "outputs": [
    {
     "name": "stdout",
     "output_type": "stream",
     "text": [
      "Even number are:-  [2, 4, 6]\n"
     ]
    }
   ],
   "source": [
    "l = [1,2,3,4,5,6]\n",
    "a = list(filter(lambda x:x%2==0,l))\n",
    "print(\"Even number are:- \",a)\n"
   ]
  },
  {
   "cell_type": "markdown",
   "id": "ea821fb1",
   "metadata": {},
   "source": [
    "# Q.8 Write a Python program to print odd numbers in a List?"
   ]
  },
  {
   "cell_type": "code",
   "execution_count": 15,
   "id": "5759a943",
   "metadata": {},
   "outputs": [
    {
     "name": "stdout",
     "output_type": "stream",
     "text": [
      "Odd number are:-  [1, 3, 5]\n"
     ]
    }
   ],
   "source": [
    "l = [1,2,3,4,5,6]\n",
    "a = list(filter(lambda x:x%2!=0,l))\n",
    "print(\"Odd number are:- \",a)\n"
   ]
  },
  {
   "cell_type": "markdown",
   "id": "60db3c06",
   "metadata": {},
   "source": [
    "# Q.9 Write a Python program to Remove empty List from List?"
   ]
  },
  {
   "cell_type": "code",
   "execution_count": 16,
   "id": "327a297e",
   "metadata": {},
   "outputs": [
    {
     "name": "stdout",
     "output_type": "stream",
     "text": [
      "[1, 2, [1], 3, 4, [5, 6]]\n"
     ]
    }
   ],
   "source": [
    "#using filter \n",
    "\n",
    "l = [1,2,[1],[],3,4,[5,6]]\n",
    "res = list(filter(None, l))\n",
    "print(res)\n"
   ]
  },
  {
   "cell_type": "code",
   "execution_count": 17,
   "id": "bbb56f03",
   "metadata": {},
   "outputs": [
    {
     "name": "stdout",
     "output_type": "stream",
     "text": [
      "[1, 2, [1], 3, 4, [5, 6]]\n"
     ]
    }
   ],
   "source": [
    "#using list comprehension \n",
    "\n",
    "l = [1,2,[1],[],3,4,[5,6]]\n",
    "res =  [i for i in l if i!=[]]\n",
    "print(res)"
   ]
  },
  {
   "cell_type": "markdown",
   "id": "d395928a",
   "metadata": {},
   "source": [
    "# Q.10 Write a Python program to Cloning or Copying a list?"
   ]
  },
  {
   "cell_type": "code",
   "execution_count": 18,
   "id": "b7f27f79",
   "metadata": {},
   "outputs": [
    {
     "name": "stdout",
     "output_type": "stream",
     "text": [
      "Original List: [4, 8, 2, 10, 15, 18]\n",
      "After Cloning: [4, 8, 2, 10, 15, 18]\n"
     ]
    }
   ],
   "source": [
    "def Cloning(li1):\n",
    "    li_copy = li1[:]\n",
    "    return li_copy\n",
    "  \n",
    "\n",
    "li1 = [4, 8, 2, 10, 15, 18]\n",
    "li2 = Cloning(li1)\n",
    "print(\"Original List:\", li1)\n",
    "print(\"After Cloning:\", li2)"
   ]
  },
  {
   "cell_type": "markdown",
   "id": "e903aae3",
   "metadata": {},
   "source": [
    "# Q.11 Write a Python program to Count occurrences of an element in a list?"
   ]
  },
  {
   "cell_type": "code",
   "execution_count": 19,
   "id": "79f04f88",
   "metadata": {},
   "outputs": [
    {
     "name": "stdout",
     "output_type": "stream",
     "text": [
      "The item a has occured 2 times\n",
      "The item b has occured 1 times\n",
      "The item c has occured 2 times\n"
     ]
    }
   ],
   "source": [
    "l = [\"a\",\"a\",\"b\",\"c\",\"c\"]\n",
    "lst = []\n",
    "for i in l:\n",
    "    if i not in lst:\n",
    "        print(f\"The item {i} has occured {l.count(i)} times\")\n",
    "        lst.append(i)"
   ]
  },
  {
   "cell_type": "code",
   "execution_count": 20,
   "id": "abc3fcab",
   "metadata": {},
   "outputs": [
    {
     "name": "stdout",
     "output_type": "stream",
     "text": [
      "{'a': 2, 'b': 1, 'c': 2}\n"
     ]
    }
   ],
   "source": [
    "l = [\"a\",\"a\",\"b\",\"c\",\"c\"]\n",
    "lst = {}\n",
    "for i in l:\n",
    "    if i in lst:\n",
    "        lst[i]+=1\n",
    "    else:\n",
    "        lst[i]= 1\n",
    "print(lst)"
   ]
  },
  {
   "cell_type": "code",
   "execution_count": null,
   "id": "5200c44a",
   "metadata": {},
   "outputs": [],
   "source": []
  }
 ],
 "metadata": {
  "kernelspec": {
   "display_name": "Python 3",
   "language": "python",
   "name": "python3"
  },
  "language_info": {
   "codemirror_mode": {
    "name": "ipython",
    "version": 3
   },
   "file_extension": ".py",
   "mimetype": "text/x-python",
   "name": "python",
   "nbconvert_exporter": "python",
   "pygments_lexer": "ipython3",
   "version": "3.8.8"
  }
 },
 "nbformat": 4,
 "nbformat_minor": 5
}

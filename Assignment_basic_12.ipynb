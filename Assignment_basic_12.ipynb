{
 "cells": [
  {
   "cell_type": "markdown",
   "id": "aae02094",
   "metadata": {},
   "source": [
    "# Q.1 In what modes should the PdfFileReader() and PdfFileWriter() File objects will be opened?"
   ]
  },
  {
   "cell_type": "code",
   "execution_count": 1,
   "id": "85dd1360",
   "metadata": {},
   "outputs": [],
   "source": [
    "#These files will be opened in binary mode., read binary (rb) for PdfFileREader() and write binary (wb) PdfFileWriter()"
   ]
  },
  {
   "cell_type": "markdown",
   "id": "192e64cc",
   "metadata": {},
   "source": [
    "# Q.2 From a PdfFileReader object, how do you get a Page object for page 5?"
   ]
  },
  {
   "cell_type": "code",
   "execution_count": 3,
   "id": "251ea885",
   "metadata": {},
   "outputs": [
    {
     "name": "stdout",
     "output_type": "stream",
     "text": [
      "Collecting PyPDF2\n",
      "  Downloading PyPDF2-1.26.0.tar.gz (77 kB)\n",
      "Building wheels for collected packages: PyPDF2\n",
      "  Building wheel for PyPDF2 (setup.py): started\n",
      "  Building wheel for PyPDF2 (setup.py): finished with status 'done'\n",
      "  Created wheel for PyPDF2: filename=PyPDF2-1.26.0-py3-none-any.whl size=61085 sha256=474c5b92b9b453ecc79de8bc4778b9440957062fed6eba172fa78600762fbc9c\n",
      "  Stored in directory: c:\\users\\admin\\appdata\\local\\pip\\cache\\wheels\\b1\\1a\\8f\\a4c34be976825a2f7948d0fa40907598d69834f8ab5889de11\n",
      "Successfully built PyPDF2\n",
      "Installing collected packages: PyPDF2\n",
      "Successfully installed PyPDF2-1.26.0\n"
     ]
    }
   ],
   "source": [
    "!pip install PyPDF2\n"
   ]
  },
  {
   "cell_type": "code",
   "execution_count": null,
   "id": "09694560",
   "metadata": {},
   "outputs": [],
   "source": [
    "\n",
    "import PyPDF2 as pdf\n",
    "pdfFileObj = open(\"ML & DL interview question.pdf\",'rb')\n",
    "pdfReader = pdf.PdfFileReader(pdfFileObj)\n",
    "pageObj = pdfReader.getPage(4)\n",
    "pageObj.extractText()"
   ]
  },
  {
   "cell_type": "markdown",
   "id": "1a557b15",
   "metadata": {},
   "source": [
    "# Q.3 What PdfFileReader variable stores the number of pages in the PDF document?"
   ]
  },
  {
   "cell_type": "code",
   "execution_count": null,
   "id": "b57be731",
   "metadata": {},
   "outputs": [],
   "source": [
    "import PyPDF2 as pdf\n",
    "pdfFileObj = open(\"ML & DL interview question.pdf\",'rb')\n",
    "pdfReader = pdf.PdfFileReader(pdfFileObj)\n",
    "pdfReader.numPages"
   ]
  },
  {
   "cell_type": "markdown",
   "id": "d0068fda",
   "metadata": {},
   "source": [
    "# Q.4 If a PdfFileReader object’s PDF is encrypted with the password swordfish, what must you do before you can obtain Page objects from it?"
   ]
  },
  {
   "cell_type": "code",
   "execution_count": 8,
   "id": "b8b41387",
   "metadata": {},
   "outputs": [],
   "source": [
    "#pdfReader.decrypt('swordfish')"
   ]
  },
  {
   "cell_type": "markdown",
   "id": "cf1b2266",
   "metadata": {},
   "source": [
    "# Q.5 What methods do you use to rotate a page?"
   ]
  },
  {
   "cell_type": "code",
   "execution_count": 9,
   "id": "e2bb1650",
   "metadata": {},
   "outputs": [],
   "source": [
    "#pageObj.rotateClockwise(180)"
   ]
  },
  {
   "cell_type": "markdown",
   "id": "04331ef4",
   "metadata": {},
   "source": [
    "# Q.6 What is the difference between a Run object and a Paragraph object?"
   ]
  },
  {
   "cell_type": "code",
   "execution_count": null,
   "id": "ac6c7481",
   "metadata": {},
   "outputs": [],
   "source": [
    "\"\"\"Paragraph Object :  A document contains multiple paragraphs. A paragraph begins on a new line and contains multiple  runs. \n",
    "                The Document object contains a list of Paragraph objects for the paragraphs in the document.\n",
    "                (A new paragraph begins whenever the user presses ENTER or RETURN while typing in a Word document.)\n",
    "\n",
    "Run Objects : Runs are contiguous groups of characters within a paragraph with the same style\"\"\""
   ]
  },
  {
   "cell_type": "markdown",
   "id": "2c711690",
   "metadata": {},
   "source": [
    "# Q.7 How do you obtain a list of Paragraph objects for a Document object that’s stored in a variable named doc?"
   ]
  },
  {
   "cell_type": "code",
   "execution_count": null,
   "id": "60a90e88",
   "metadata": {},
   "outputs": [],
   "source": [
    "#!pip install python-docx\n",
    "import docx\n",
    "doc = docx.Document('demo.docx')\n",
    "doc.paragraphs"
   ]
  },
  {
   "cell_type": "markdown",
   "id": "435228da",
   "metadata": {},
   "source": [
    "# Q.8 What type of object has bold, underline, italic, strike, and outline variables?"
   ]
  },
  {
   "cell_type": "code",
   "execution_count": 11,
   "id": "1379e335",
   "metadata": {},
   "outputs": [],
   "source": [
    "#A Run object has bold, underline,italic,strike and outline variables"
   ]
  },
  {
   "cell_type": "markdown",
   "id": "2737a5a3",
   "metadata": {},
   "source": [
    "# Q.9 What is the difference between False, True, and None for the bold variable?"
   ]
  },
  {
   "cell_type": "code",
   "execution_count": 12,
   "id": "2123e8ff",
   "metadata": {},
   "outputs": [],
   "source": [
    "#Runs can be further styled using text attributes. Each attribute can be set to one of three values: \n",
    "#True (the attribute is always enabled, no matter what other styles are applied to the run), \n",
    "#False (the attribute is always disabled),\n",
    "#None (defaults to whatever the run’s style is set to)\n",
    "\n",
    "#True always makes the Run object bolded and False makes it always not bolded, \n",
    "#no matter what the style’s bold setting is. None will make the Run object just use the style’s bold setting"
   ]
  },
  {
   "cell_type": "markdown",
   "id": "6bc883e8",
   "metadata": {},
   "source": [
    "# Q.10 How do you create a Document object for a new Word document?"
   ]
  },
  {
   "cell_type": "code",
   "execution_count": 13,
   "id": "a9995d7a",
   "metadata": {},
   "outputs": [],
   "source": [
    "#By Calling the docx.Document() function."
   ]
  },
  {
   "cell_type": "markdown",
   "id": "7ce08e41",
   "metadata": {},
   "source": [
    "# Q.11 How do you add a paragraph with the text &#39;Hello, there!&#39; to a Document object stored in a variable named doc?"
   ]
  },
  {
   "cell_type": "code",
   "execution_count": null,
   "id": "58c371b9",
   "metadata": {},
   "outputs": [],
   "source": [
    "import docx\n",
    "doc = docx.Document()\n",
    "\n",
    "doc.add_paragraph('Hello there!')\n",
    "doc.save('hellothere.docx')"
   ]
  },
  {
   "cell_type": "markdown",
   "id": "063695bf",
   "metadata": {},
   "source": [
    "# Q.12 What integers represent the levels of headings available in Word documents?"
   ]
  },
  {
   "cell_type": "code",
   "execution_count": null,
   "id": "a29de2e0",
   "metadata": {},
   "outputs": [],
   "source": [
    "integer from 0 to 4\n",
    "\n",
    "The arguments to add_heading() are a string of the heading text and an integer from 0 to 4. \n",
    "The integer 0 makes the heading the Title style, which is used for the top of the document. \n",
    "Integers 1 to 4 are for various heading levels, with 1 being the main heading and 4 the lowest subheading"
   ]
  }
 ],
 "metadata": {
  "kernelspec": {
   "display_name": "Python 3",
   "language": "python",
   "name": "python3"
  },
  "language_info": {
   "codemirror_mode": {
    "name": "ipython",
    "version": 3
   },
   "file_extension": ".py",
   "mimetype": "text/x-python",
   "name": "python",
   "nbconvert_exporter": "python",
   "pygments_lexer": "ipython3",
   "version": "3.8.8"
  }
 },
 "nbformat": 4,
 "nbformat_minor": 5
}

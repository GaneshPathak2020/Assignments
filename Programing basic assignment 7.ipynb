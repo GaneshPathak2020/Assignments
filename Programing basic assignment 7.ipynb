{
 "cells": [
  {
   "cell_type": "code",
   "execution_count": 1,
   "id": "c5179ebe",
   "metadata": {},
   "outputs": [
    {
     "name": "stdout",
     "output_type": "stream",
     "text": [
      "Enter the size of the array: 3\n",
      "Enter array elements: \n",
      "10\n",
      "11\n",
      "12\n",
      "Sum: 33\n"
     ]
    }
   ],
   "source": [
    "# Q.1 Write a Python Program to find sum of array?\n",
    "\n",
    "arr = []\n",
    "num = int(input(\"Enter the size of the array: \"))\n",
    "print(\"Enter array elements: \")\n",
    "for n in range(num):\n",
    "  numbers = int(input())\n",
    "  arr.append(numbers)\n",
    "print(\"Sum:\", sum(arr))"
   ]
  },
  {
   "cell_type": "code",
   "execution_count": 3,
   "id": "7e6d39fe",
   "metadata": {},
   "outputs": [
    {
     "name": "stdout",
     "output_type": "stream",
     "text": [
      "ENTER ARRAY SIZE 3\n",
      "10\n",
      "11\n",
      "12\n",
      "LARGEST ELEMENTIS 12\n"
     ]
    }
   ],
   "source": [
    "# Q.2 Write a Python Program to find largest element in an array?\n",
    "\n",
    "size=int(input(\"ENTER ARRAY SIZE \"))\n",
    "arr=[]\n",
    "for i in range(size):\n",
    "    element=int(input())\n",
    "    arr.append(element)\n",
    "print(\"LARGEST ELEMENTIS\",max(arr))"
   ]
  },
  {
   "cell_type": "code",
   "execution_count": 4,
   "id": "2a5bbcab",
   "metadata": {},
   "outputs": [
    {
     "name": "stdout",
     "output_type": "stream",
     "text": [
      "Array after left rotation is:  [3, 4, 5, 6, 7, 1, 2]\n"
     ]
    }
   ],
   "source": [
    "# Q.3 Write a Python Program for array rotation?\n",
    "\n",
    "def rotateArray(a,d):\n",
    "    temp = []\n",
    "    n=len(a)\n",
    "    for i in range(d,n):\n",
    "        temp.append(a[i])\n",
    "    i = 0\n",
    "    for i in range (0,d):\n",
    "        temp.append(a[i])\n",
    "    a=temp.copy()\n",
    "    return a\n",
    " \n",
    "arr = [1, 2, 3, 4, 5, 6, 7]\n",
    "print(\"Array after left rotation is: \", end=' ')\n",
    "print(rotateArray(arr, 2))"
   ]
  },
  {
   "cell_type": "code",
   "execution_count": 5,
   "id": "afcc4587",
   "metadata": {},
   "outputs": [
    {
     "name": "stdout",
     "output_type": "stream",
     "text": [
      "Output array is [5, 17, 10, 13]\n"
     ]
    }
   ],
   "source": [
    "# Q.4 Write a Python Program to Split the array and add the first part to the end?\n",
    "\n",
    "def split(arr, k):\n",
    "\n",
    "    arr = arr[k:] + arr[:k]\n",
    "\n",
    "    return arr\n",
    "\n",
    "   \n",
    "\n",
    "k = 2\n",
    "\n",
    "arr = [10, 13, 5, 17]\n",
    "\n",
    "print(\"Output array is\", split(arr, k))"
   ]
  },
  {
   "cell_type": "code",
   "execution_count": 6,
   "id": "8f995b41",
   "metadata": {},
   "outputs": [
    {
     "name": "stdout",
     "output_type": "stream",
     "text": [
      "True\n"
     ]
    }
   ],
   "source": [
    "# Q.5 Write a Python Program to check if given array is Monotonic?\n",
    "\n",
    "def monotonic(a):\n",
    "    n = len(a)\n",
    "    return (all(a[i]<=a[i+1] for i in range(n-1)) or\n",
    "            all(a[i]>=a[i+1] for i in range(n-1)))\n",
    "a = [6, 5, 4, 3, 2]\n",
    "print(monotonic(a))"
   ]
  },
  {
   "cell_type": "code",
   "execution_count": null,
   "id": "b57cdda0",
   "metadata": {},
   "outputs": [],
   "source": []
  }
 ],
 "metadata": {
  "kernelspec": {
   "display_name": "Python 3",
   "language": "python",
   "name": "python3"
  },
  "language_info": {
   "codemirror_mode": {
    "name": "ipython",
    "version": 3
   },
   "file_extension": ".py",
   "mimetype": "text/x-python",
   "name": "python",
   "nbconvert_exporter": "python",
   "pygments_lexer": "ipython3",
   "version": "3.8.8"
  }
 },
 "nbformat": 4,
 "nbformat_minor": 5
}

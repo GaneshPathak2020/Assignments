{
 "cells": [
  {
   "cell_type": "code",
   "execution_count": 1,
   "id": "73181073",
   "metadata": {},
   "outputs": [
    {
     "name": "stdout",
     "output_type": "stream",
     "text": [
      "Enter the kilometers?: 50\n",
      "The conversion into miles is  31.068550000000002\n"
     ]
    }
   ],
   "source": [
    "# Q.1 Write a Python program to convert kilometers to miles?\n",
    "\n",
    "kilometers = float(input('Enter the kilometers?: '))\n",
    "\n",
    "conv_fac = 0.621371\n",
    "\n",
    "miles = kilometers * conv_fac\n",
    "\n",
    "print(\"The conversion into miles is \",miles)\n"
   ]
  },
  {
   "cell_type": "code",
   "execution_count": 2,
   "id": "c541dc5c",
   "metadata": {},
   "outputs": [
    {
     "name": "stdout",
     "output_type": "stream",
     "text": [
      "Enter temperature in Celsius: 23\n",
      "Conversion into fahrenheit is  73.4\n"
     ]
    }
   ],
   "source": [
    "# Q.2 Write a Python program to convert Celsius to Fahrenheit?\n",
    "\n",
    "celsius = float(input('Enter temperature in Celsius: '))\n",
    "\n",
    "fahrenheit = (celsius * 1.8) + 32\n",
    "\n",
    "print(\"Conversion into fahrenheit is \",fahrenheit)\n"
   ]
  },
  {
   "cell_type": "code",
   "execution_count": 4,
   "id": "c29622a8",
   "metadata": {},
   "outputs": [
    {
     "name": "stdout",
     "output_type": "stream",
     "text": [
      "Enter year: 2050\n",
      "Enter month: 2\n",
      "   February 2050\n",
      "Mo Tu We Th Fr Sa Su\n",
      "    1  2  3  4  5  6\n",
      " 7  8  9 10 11 12 13\n",
      "14 15 16 17 18 19 20\n",
      "21 22 23 24 25 26 27\n",
      "28\n",
      "\n"
     ]
    }
   ],
   "source": [
    "# Q.3 Write a Python program to display calendar?\n",
    "import calendar\n",
    "\n",
    "yy = 2021\n",
    "mm = 12\n",
    "\n",
    "\n",
    "yy = int(input(\"Enter year: \"))\n",
    "mm = int(input(\"Enter month: \"))\n",
    "\n",
    "\n",
    "print(calendar.month(yy, mm))\n"
   ]
  },
  {
   "cell_type": "code",
   "execution_count": 5,
   "id": "13de1746",
   "metadata": {},
   "outputs": [
    {
     "name": "stdout",
     "output_type": "stream",
     "text": [
      "The solution is (-3+0j) (-2+0j)\n"
     ]
    }
   ],
   "source": [
    "# Q.4 Write a Python program to solve quadratic equation?\n",
    "import cmath\n",
    "\n",
    "a = 1\n",
    "b = 5\n",
    "c = 6\n",
    "\n",
    "d = (b**2) - (4*a*c)\n",
    "\n",
    "sol1 = (-b-cmath.sqrt(d))/(2*a)\n",
    "sol2 = (-b+cmath.sqrt(d))/(2*a)\n",
    "\n",
    "print(\"The solution is\",sol1,sol2)\n"
   ]
  },
  {
   "cell_type": "code",
   "execution_count": 6,
   "id": "2a65d778",
   "metadata": {},
   "outputs": [
    {
     "name": "stdout",
     "output_type": "stream",
     "text": [
      "Enter the first number - 1\n",
      "Enter the second number - 2\n",
      "After Swapping: x = 2  y = 1\n"
     ]
    }
   ],
   "source": [
    "# Q.5 Write a Python program to swap two variables without temp variable?\n",
    "x = int(input(\"Enter the first number - \"))\n",
    "y = int(input(\"Enter the second number - \"))\n",
    "\n",
    "x = x + y\n",
    "y = x - y\n",
    "\n",
    "x = x - y\n",
    "\n",
    "print(\"After Swapping: x =\", x, \" y =\", y)\n"
   ]
  },
  {
   "cell_type": "code",
   "execution_count": null,
   "id": "a5b23f7d",
   "metadata": {},
   "outputs": [],
   "source": []
  }
 ],
 "metadata": {
  "kernelspec": {
   "display_name": "Python 3",
   "language": "python",
   "name": "python3"
  },
  "language_info": {
   "codemirror_mode": {
    "name": "ipython",
    "version": 3
   },
   "file_extension": ".py",
   "mimetype": "text/x-python",
   "name": "python",
   "nbconvert_exporter": "python",
   "pygments_lexer": "ipython3",
   "version": "3.8.8"
  }
 },
 "nbformat": 4,
 "nbformat_minor": 5
}

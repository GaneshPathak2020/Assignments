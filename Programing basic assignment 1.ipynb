{
 "cells": [
  {
   "cell_type": "code",
   "execution_count": 1,
   "id": "93d7f1f6",
   "metadata": {},
   "outputs": [
    {
     "name": "stdout",
     "output_type": "stream",
     "text": [
      "Enter your word:- Hello\n",
      "Your  word is  Hello\n"
     ]
    }
   ],
   "source": [
    "# Q.1 Write a Python program to print \"Hello Python\"?\n",
    "a = str(input(\"Enter your word:- \" ))\n",
    "print(\"Your  word is \", a )\n"
   ]
  },
  {
   "cell_type": "code",
   "execution_count": 3,
   "id": "4e0c6ccb",
   "metadata": {},
   "outputs": [
    {
     "name": "stdout",
     "output_type": "stream",
     "text": [
      "Enter first number: 10\n",
      "Enter second number: 23\n",
      "Operation: +,/\n",
      "Select operations: +\n",
      "10.0 + 23.0 = 33.0\n"
     ]
    }
   ],
   "source": [
    "# Q.2 Write a Python program to do arithmetical operations addition and division.?\n",
    "\n",
    "num1 = float(input(\"Enter first number: \"))\n",
    "num2 = float(input(\"Enter second number: \"))\n",
    "\n",
    "print(\"Operation: +,/\")\n",
    "select = input(\"Select operations: \")\n",
    "\n",
    "if select == \"+\":\n",
    "    print(num1, \"+\", num2, \"=\", num1+num2)\n",
    "\n",
    "elif select == \"/\":\n",
    "    print(num1, \"/\", num2, \"=\", num1/num2)\n",
    "\n",
    "else:\n",
    "    print(\"Invalid input\")\n"
   ]
  },
  {
   "cell_type": "code",
   "execution_count": 5,
   "id": "10c1bc90",
   "metadata": {},
   "outputs": [
    {
     "name": "stdout",
     "output_type": "stream",
     "text": [
      "Enter Height of Triangle: 10\n",
      "Enter base of triangle: 25\n",
      "The area of tiangle is 125.0\n"
     ]
    }
   ],
   "source": [
    "# Q.3 Write a Python program to find the area of a triangle?\n",
    "# If Base and Height is given:\n",
    "num1 = float(input(\"Enter Height of Triangle: \"))\n",
    "num2 = float(input(\"Enter base of triangle: \"))\n",
    "print(\"The area of tiangle is\",0.5 * num1*num2)\n"
   ]
  },
  {
   "cell_type": "code",
   "execution_count": 6,
   "id": "8425b38d",
   "metadata": {},
   "outputs": [
    {
     "name": "stdout",
     "output_type": "stream",
     "text": [
      "Enter first side: 5\n",
      "Enter second side: 6\n",
      "Enter third side: 7\n",
      "The area of the triangle is  14.696938456699069\n"
     ]
    }
   ],
   "source": [
    "# if all three sides are given then :-\n",
    "a = float(input('Enter first side: '))\n",
    "b = float(input('Enter second side: '))\n",
    "c = float(input('Enter third side: '))\n",
    "\n",
    "s = (a + b + c) / 2\n",
    "\n",
    "\n",
    "area = (s*(s-a)*(s-b)*(s-c)) ** 0.5\n",
    "print(\"The area of the triangle is \", area)\n"
   ]
  },
  {
   "cell_type": "code",
   "execution_count": 7,
   "id": "e2a3630d",
   "metadata": {},
   "outputs": [
    {
     "name": "stdout",
     "output_type": "stream",
     "text": [
      "Enter first variable:- 5\n",
      "Enter second variable:- 6\n",
      "Value of x: 6.0\n",
      "Value of y: 5.0\n"
     ]
    }
   ],
   "source": [
    "# Q.4 Write a Python program to swap two variables?\n",
    "x = float(input(\"Enter first variable:- \"))\n",
    "y = float(input(\"Enter second variable:- \"))\n",
    "\n",
    "x,y = y,x\n",
    "\n",
    "print(\"Value of x:\", x)\n",
    "print(\"Value of y:\", y)\n"
   ]
  },
  {
   "cell_type": "code",
   "execution_count": 8,
   "id": "ff0b9541",
   "metadata": {},
   "outputs": [
    {
     "name": "stdout",
     "output_type": "stream",
     "text": [
      "65\n"
     ]
    }
   ],
   "source": [
    "# Q.5 Write a Python program to generate a random number?\n",
    "import random\n",
    "print(random.randint(0,100))\n"
   ]
  },
  {
   "cell_type": "code",
   "execution_count": null,
   "id": "f7217529",
   "metadata": {},
   "outputs": [],
   "source": []
  },
  {
   "cell_type": "code",
   "execution_count": null,
   "id": "50c5287d",
   "metadata": {},
   "outputs": [],
   "source": []
  }
 ],
 "metadata": {
  "kernelspec": {
   "display_name": "Python 3",
   "language": "python",
   "name": "python3"
  },
  "language_info": {
   "codemirror_mode": {
    "name": "ipython",
    "version": 3
   },
   "file_extension": ".py",
   "mimetype": "text/x-python",
   "name": "python",
   "nbconvert_exporter": "python",
   "pygments_lexer": "ipython3",
   "version": "3.8.8"
  }
 },
 "nbformat": 4,
 "nbformat_minor": 5
}

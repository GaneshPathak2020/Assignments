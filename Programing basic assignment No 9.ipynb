{
 "cells": [
  {
   "cell_type": "markdown",
   "id": "0cea2ab3",
   "metadata": {},
   "source": [
    "# Q.1 Write a Python program to check if the given number is a Disarium Number?"
   ]
  },
  {
   "cell_type": "code",
   "execution_count": 1,
   "id": "573494a8",
   "metadata": {},
   "outputs": [
    {
     "name": "stdout",
     "output_type": "stream",
     "text": [
      "Enter the number :- 135\n",
      "it is disarium number\n"
     ]
    }
   ],
   "source": [
    "n = int(input(\"Enter the number :- \"))\n",
    "disarium = 0\n",
    "temp = n\n",
    "def find_pos(data):\n",
    "    str_data = str(data)\n",
    "    return len(str_data)\n",
    "\n",
    "while temp!=0:\n",
    "    disarium+=(temp%10)**find_pos(temp)\n",
    "    temp=temp//10\n",
    "\n",
    "if disarium == n:\n",
    "    print(\"it is disarium number\")\n",
    "else:\n",
    "    print(\"It is not\")"
   ]
  },
  {
   "cell_type": "markdown",
   "id": "f77de97a",
   "metadata": {},
   "source": [
    "# Q.2 Write a Python program to print all disarium numbers between 1 to 100"
   ]
  },
  {
   "cell_type": "code",
   "execution_count": 2,
   "id": "d47765ef",
   "metadata": {},
   "outputs": [
    {
     "name": "stdout",
     "output_type": "stream",
     "text": [
      "Disarium numbers between 1 and 100 are\n",
      "1\n",
      "2\n",
      "3\n",
      "4\n",
      "5\n",
      "6\n",
      "7\n",
      "8\n",
      "9\n",
      "89\n"
     ]
    }
   ],
   "source": [
    "def calculateLength(n):    \n",
    "    length = 0\n",
    "    while(n != 0):    \n",
    "        length = length + 1    \n",
    "        n = n//10    \n",
    "    return length\n",
    "\n",
    "def sumOfDigits(num):    \n",
    "    rem = sum = 0\n",
    "    len = calculateLength(num)\n",
    "\n",
    "    while(num > 0):    \n",
    "            rem = num%10   \n",
    "            sum = sum + (rem**len) \n",
    "            num = num//10    \n",
    "            len = len - 1   \n",
    "    return sum    \n",
    "      \n",
    "result = 0;\n",
    "print(\"Disarium numbers between 1 and 100 are\")   \n",
    "for i in range(1, 101):    \n",
    "    result = sumOfDigits(i)    \n",
    "        \n",
    "    if(result == i):    \n",
    "        print(i) \n"
   ]
  },
  {
   "cell_type": "markdown",
   "id": "bcfc00e5",
   "metadata": {},
   "source": [
    "# Q.3 Write a Python program to check if the given number is Happy Number?"
   ]
  },
  {
   "cell_type": "code",
   "execution_count": 3,
   "id": "cf87499f",
   "metadata": {},
   "outputs": [
    {
     "name": "stdout",
     "output_type": "stream",
     "text": [
      "35 is not a happy number\n"
     ]
    }
   ],
   "source": [
    "def isHappyNumber(num):    \n",
    "    rem = sum = 0    \n",
    "    while(num > 0):    \n",
    "        rem = num%10    \n",
    "        sum = sum + (rem*rem)    \n",
    "        num = num//10    \n",
    "    return sum    \n",
    "num = 35    \n",
    "result = num    \n",
    "\n",
    "while(result != 1 and result != 4):    \n",
    "\n",
    "    result = isHappyNumber(result)    \n",
    "\n",
    "    if(result == 1):    \n",
    "        print(str(num) + \" is a happy number\")    \n",
    "    elif(result == 4):    \n",
    "        print(str(num) + \" is not a happy number\") "
   ]
  },
  {
   "cell_type": "markdown",
   "id": "8c0005cc",
   "metadata": {},
   "source": [
    "# Q.4 Write a Python program to print all happy numbers between 1 and 100?"
   ]
  },
  {
   "cell_type": "code",
   "execution_count": 4,
   "id": "84214129",
   "metadata": {},
   "outputs": [
    {
     "name": "stdout",
     "output_type": "stream",
     "text": [
      "List of happy numbers between 1 and 100: \n",
      "1\n",
      "7\n",
      "10\n",
      "13\n",
      "19\n",
      "23\n",
      "28\n",
      "31\n",
      "32\n",
      "44\n",
      "49\n",
      "68\n",
      "70\n",
      "79\n",
      "82\n",
      "86\n",
      "91\n",
      "94\n",
      "97\n",
      "100\n"
     ]
    }
   ],
   "source": [
    "def isHappyNumber(num):    \n",
    "    rem = sum = 0\n",
    "    while(num > 0):\n",
    "        rem = num%10    \n",
    "        sum = sum + (rem*rem)    \n",
    "        num = num//10    \n",
    "    return sum \n",
    "print(\"List of happy numbers between 1 and 100: \") \n",
    "for i in range(1, 101):    \n",
    "    result = i\n",
    "\n",
    "    while(result != 1 and result != 4):    \n",
    "            result = isHappyNumber(result)  \n",
    "        \n",
    "    if(result == 1):\n",
    "        print(i)    \n",
    "        "
   ]
  },
  {
   "cell_type": "markdown",
   "id": "d4aa4ae7",
   "metadata": {},
   "source": [
    "# Q.5 Write a Python program to determine whether the given number is a Harshad Number?"
   ]
  },
  {
   "cell_type": "code",
   "execution_count": 5,
   "id": "d1d52854",
   "metadata": {},
   "outputs": [
    {
     "name": "stdout",
     "output_type": "stream",
     "text": [
      "156 is a harshad number\n"
     ]
    }
   ],
   "source": [
    "num = 156   \n",
    "rem = sum = 0   \n",
    "     \n",
    "n = num       \n",
    "while(num > 0):    \n",
    "    rem = num%10    \n",
    "    sum = sum + rem   \n",
    "    num = num//10    \n",
    "         \n",
    "if(n%sum == 0):    \n",
    "    print(str(n) + \" is a harshad number\")   \n",
    "else:    \n",
    "    print(str(n) + \" is not a harshad number\")  "
   ]
  },
  {
   "cell_type": "markdown",
   "id": "8a5b40cd",
   "metadata": {},
   "source": [
    "# Q.6 Write a Python program to print all pronic numbers between 1 and 100?"
   ]
  },
  {
   "cell_type": "code",
   "execution_count": 6,
   "id": "078276f5",
   "metadata": {},
   "outputs": [
    {
     "name": "stdout",
     "output_type": "stream",
     "text": [
      "Pronic numbers between 1 and 100: \n",
      "2\n",
      "6\n",
      "12\n",
      "20\n",
      "30\n",
      "42\n",
      "56\n",
      "72\n",
      "90\n"
     ]
    }
   ],
   "source": [
    "def isPronicNumber(num):    \n",
    "    flag = False    \n",
    "        \n",
    "    for j in range(1, num+1):    \n",
    "        if((j*(j+1)) == num):    \n",
    "            flag = True    \n",
    "            break    \n",
    "    return flag    \n",
    "       \n",
    "print(\"Pronic numbers between 1 and 100: \")    \n",
    "for i in range(1, 101):    \n",
    "    if(isPronicNumber(i)):    \n",
    "        print(i)    \n",
    "        "
   ]
  },
  {
   "cell_type": "code",
   "execution_count": null,
   "id": "096c962d",
   "metadata": {},
   "outputs": [],
   "source": []
  }
 ],
 "metadata": {
  "kernelspec": {
   "display_name": "Python 3",
   "language": "python",
   "name": "python3"
  },
  "language_info": {
   "codemirror_mode": {
    "name": "ipython",
    "version": 3
   },
   "file_extension": ".py",
   "mimetype": "text/x-python",
   "name": "python",
   "nbconvert_exporter": "python",
   "pygments_lexer": "ipython3",
   "version": "3.8.8"
  }
 },
 "nbformat": 4,
 "nbformat_minor": 5
}

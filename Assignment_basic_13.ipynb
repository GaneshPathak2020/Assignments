{
 "cells": [
  {
   "cell_type": "markdown",
   "id": "abce6f12",
   "metadata": {},
   "source": [
    "# Q.1 What advantages do Excel spreadsheets have over CSV spreadsheets?"
   ]
  },
  {
   "cell_type": "code",
   "execution_count": null,
   "id": "a3922fde",
   "metadata": {},
   "outputs": [],
   "source": [
    "Excel advantages over CSV\n",
    "1. It is a binary file that holds information about all the worksheets in a workbook\n",
    "2. An Excel not only stores data but can also do operations on the data\n",
    "3. Files saved in excel cannot be opened or edited by text editors\n",
    "4. large files user is much easier in Excel for the end user. Also, \n",
    "    you can have additional functions like selecting individual cells for import, \n",
    "    convert dates and time automatically, reading formulas and their results, filters, sorting, etc\n",
    "5. Apart from text, data can also be stored in form of charts and graphs\n",
    "6. Excel can connect to external data sources to fetch data. You can use custom add-in in Excel to increase its functionality. \n",
    "7. Excel allows for Review of Data with detailed tracking and commenting feature\n",
    "8. In Excel, spreadsheets can have values of data types other than strings; cells can have different fonts, sizes, \n",
    "   or color settings; cells can have varying widths and heights; adjacent cells can be merged"
   ]
  },
  {
   "cell_type": "markdown",
   "id": "cdea9bb7",
   "metadata": {},
   "source": [
    "# Q.2 What do you pass to csv.reader() and csv.writer() to create reader and writer objects?"
   ]
  },
  {
   "cell_type": "code",
   "execution_count": null,
   "id": "f6dac2a6",
   "metadata": {},
   "outputs": [],
   "source": [
    "\n",
    "import csv\n",
    "exFile = open('example.csv')\n",
    "exreader = csv.reader(exFile)\n",
    "exData = list(exreader)\n",
    "exData"
   ]
  },
  {
   "cell_type": "markdown",
   "id": "67bc3971",
   "metadata": {},
   "source": [
    "# Q.3 What modes do File objects for reader and writer objects need to be opened in?"
   ]
  },
  {
   "cell_type": "code",
   "execution_count": 2,
   "id": "b44cd71d",
   "metadata": {},
   "outputs": [],
   "source": [
    "#File objects need to be opened in read-binary ('rb') for Reader objects and write-binary ('wb') for Writer objects"
   ]
  },
  {
   "cell_type": "markdown",
   "id": "4b79efed",
   "metadata": {},
   "source": [
    "# Q.4 What method takes a list argument and writes it to a CSV file?"
   ]
  },
  {
   "cell_type": "code",
   "execution_count": null,
   "id": "77c56939",
   "metadata": {},
   "outputs": [],
   "source": [
    "opFile = open('output.csv','w')\n",
    "opWriter = csv.writer(opFile)\n",
    "csv.writer(opFile).writerow(['egg','orange','milk'])"
   ]
  },
  {
   "cell_type": "markdown",
   "id": "d2f108f3",
   "metadata": {},
   "source": [
    "# Q.5 What do the keyword arguments delimiter and line terminator do?"
   ]
  },
  {
   "cell_type": "code",
   "execution_count": null,
   "id": "b24779a8",
   "metadata": {},
   "outputs": [],
   "source": [
    "The delimiter argument changes the string used to separate cells in a row. \n",
    "The lineterminator argument changes the string used to separate rows."
   ]
  },
  {
   "cell_type": "code",
   "execution_count": null,
   "id": "36adda7d",
   "metadata": {},
   "outputs": [],
   "source": [
    "import csv\n",
    "csvFile = open('example.tsv', 'w', newline='')\n",
    "csvWriter = csv.writer(csvFile, delimiter='\\t', lineterminator='\\n\\n')"
   ]
  },
  {
   "cell_type": "markdown",
   "id": "e309b151",
   "metadata": {},
   "source": [
    "# Q.6 What function takes a string of JSON data and returns a Python data structure?"
   ]
  },
  {
   "cell_type": "code",
   "execution_count": 3,
   "id": "6766083f",
   "metadata": {},
   "outputs": [],
   "source": [
    "#json.loads()"
   ]
  },
  {
   "cell_type": "markdown",
   "id": "cfbe1584",
   "metadata": {},
   "source": [
    "# Q.7 What function takes a Python data structure and returns a string of JSON data?"
   ]
  },
  {
   "cell_type": "code",
   "execution_count": 4,
   "id": "e8f0f775",
   "metadata": {},
   "outputs": [],
   "source": [
    "#json.dumps()"
   ]
  },
  {
   "cell_type": "code",
   "execution_count": null,
   "id": "984b2821",
   "metadata": {},
   "outputs": [],
   "source": []
  }
 ],
 "metadata": {
  "kernelspec": {
   "display_name": "Python 3",
   "language": "python",
   "name": "python3"
  },
  "language_info": {
   "codemirror_mode": {
    "name": "ipython",
    "version": 3
   },
   "file_extension": ".py",
   "mimetype": "text/x-python",
   "name": "python",
   "nbconvert_exporter": "python",
   "pygments_lexer": "ipython3",
   "version": "3.8.8"
  }
 },
 "nbformat": 4,
 "nbformat_minor": 5
}
